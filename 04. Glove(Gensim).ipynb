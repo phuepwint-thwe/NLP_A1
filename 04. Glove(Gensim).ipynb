{
 "cells": [
  {
   "cell_type": "markdown",
   "metadata": {},
   "source": [
    "# GloVe (Gensim)"
   ]
  },
  {
   "cell_type": "code",
   "execution_count": 24,
   "metadata": {},
   "outputs": [],
   "source": [
    "import numpy as np"
   ]
  },
  {
   "cell_type": "code",
   "execution_count": 25,
   "metadata": {},
   "outputs": [],
   "source": [
    "from gensim.test.utils import datapath\n",
    "from gensim.models import KeyedVectors\n",
    "from gensim.scripts.glove2word2vec import glove2word2vec\n",
    "\n",
    "#you have to put this file in some python/gensim directory; just run it and it will inform where to put....\n",
    "glove_file = datapath('glove.6B.100d.txt')  #search on the google\n",
    "model = KeyedVectors.load_word2vec_format(glove_file, binary=False, no_header=True)"
   ]
  },
  {
   "cell_type": "markdown",
   "metadata": {},
   "source": [
    "# Testing"
   ]
  },
  {
   "cell_type": "code",
   "execution_count": 26,
   "metadata": {},
   "outputs": [],
   "source": [
    "def open_file(path_to_file):\n",
    "    # Open the file in read mode\n",
    "    try:\n",
    "        with open(path_to_file, 'r') as file:\n",
    "            content = file.readlines()\n",
    "    except FileNotFoundError:\n",
    "        print(f\"The file {path_to_file} does not exist.\")\n",
    "    except Exception as e:\n",
    "        print(f\"An error occurred: {e}\")\n",
    "\n",
    "    return content"
   ]
  },
  {
   "cell_type": "code",
   "execution_count": 27,
   "metadata": {},
   "outputs": [],
   "source": [
    "# File paths for semantic and syntactic data\n",
    "semantic_file_path = \"test/semantic_capital_country.txt\"\n",
    "syntatic_file_path = \"test/syntatic_past_tense.txt\"\n",
    "\n",
    "# Function to read content from a file\n",
    "def open_file(file_path):\n",
    "    with open(file_path, \"r\") as file:\n",
    "        return file.readlines()\n",
    "\n",
    "# Load semantic and syntactic data\n",
    "semantic = [line.strip() for line in open_file(semantic_file_path) if line.strip()]\n",
    "syntatic = [line.strip() for line in open_file(syntatic_file_path) if line.strip()]\n",
    "\n",
    "current_test = semantic \n",
    "for sent in semantic + syntatic:  \n",
    "    if sent.startswith(\":\"):  \n",
    "        current_test = syntatic\n",
    "        continue\n",
    "    current_test.append(sent.strip())\n",
    "    \n",
    "    current_test.append(sent.strip())"
   ]
  },
  {
   "cell_type": "markdown",
   "metadata": {},
   "source": [
    "# Syntactic Accuracy"
   ]
  },
  {
   "cell_type": "code",
   "execution_count": 28,
   "metadata": {},
   "outputs": [],
   "source": [
    "syn_total = len(syntatic)\n",
    "syn_correct = 0\n",
    "\n",
    "for sent in syntatic:\n",
    "    sent = sent.lower()\n",
    "    words = sent.split(\" \")\n",
    "\n",
    "    try:\n",
    "        result = model.most_similar(positive=[words[1], words[2]], negative=[words[0]])[0][0]\n",
    "    except:\n",
    "        result = \"<UNK>\"\n",
    "\n",
    "    if result == words[3]:\n",
    "        syn_correct += 1"
   ]
  },
  {
   "cell_type": "code",
   "execution_count": 29,
   "metadata": {},
   "outputs": [
    {
     "name": "stdout",
     "output_type": "stream",
     "text": [
      "Syntatic accuracy: 0.5545\n"
     ]
    }
   ],
   "source": [
    "syn_accuracy = syn_correct / syn_total\n",
    "print(f\"Syntatic accuracy: {syn_accuracy:2.4f}\")"
   ]
  },
  {
   "cell_type": "markdown",
   "metadata": {},
   "source": [
    "# Semantic Accuracy"
   ]
  },
  {
   "cell_type": "code",
   "execution_count": 30,
   "metadata": {},
   "outputs": [],
   "source": [
    "sem_total = len(semantic)\n",
    "sem_correct = 0\n",
    "\n",
    "for sent in semantic:\n",
    "    sent = sent.lower()\n",
    "    words = sent.split(\" \")\n",
    "\n",
    "    try:\n",
    "        result = model.most_similar(positive=[words[1], words[2]], negative=[words[0]])[0][0]\n",
    "    except:\n",
    "        result = \"<UNK>\"\n",
    "\n",
    "    if result == words[3]:\n",
    "        sem_correct += 1"
   ]
  },
  {
   "cell_type": "code",
   "execution_count": 31,
   "metadata": {},
   "outputs": [
    {
     "name": "stdout",
     "output_type": "stream",
     "text": [
      "Semantic accuracy: 0.5470\n"
     ]
    }
   ],
   "source": [
    "sem_accuracy = sem_correct / sem_total\n",
    "print(f\"Semantic accuracy: {sem_accuracy:2.4f}\")"
   ]
  },
  {
   "cell_type": "markdown",
   "metadata": {},
   "source": [
    "# Similarity Accuracy"
   ]
  },
  {
   "cell_type": "code",
   "execution_count": 32,
   "metadata": {},
   "outputs": [],
   "source": [
    "file_path = \"test/wordsim_similarity_goldstandard.txt\"\n",
    "\n",
    "content = open_file(file_path)\n",
    "\n",
    "sim_data = []\n",
    "\n",
    "for sent in content:\n",
    "    sim_data.append(sent.strip())"
   ]
  },
  {
   "cell_type": "code",
   "execution_count": 33,
   "metadata": {},
   "outputs": [],
   "source": [
    "default_vector = np.zeros(model.vector_size)\n",
    "try:\n",
    "    result = model.get_vector('111222')\n",
    "except:\n",
    "    result = default_vector"
   ]
  },
  {
   "cell_type": "code",
   "execution_count": 34,
   "metadata": {},
   "outputs": [],
   "source": [
    "def compute_similarity(model, test_data):\n",
    "    words = test_data.lower().split(\"\\t\")\n",
    "\n",
    "    default_vector = np.zeros(model.vector_size)\n",
    "    try:\n",
    "        embed0 = model.get_vector(words[0].strip())\n",
    "        embed1 = model.get_vector(words[1].strip())\n",
    "    except:\n",
    "        embed0 = default_vector\n",
    "        embed1 = default_vector\n",
    "\n",
    "\n",
    "    similarity_model = embed1 @ embed0.T\n",
    "    similarity_provided = float(words[2].strip())\n",
    "\n",
    "    return similarity_provided, similarity_model"
   ]
  },
  {
   "cell_type": "code",
   "execution_count": 35,
   "metadata": {},
   "outputs": [],
   "source": [
    "ds_scores = []\n",
    "model_scores = []\n",
    "for sent in sim_data:\n",
    "    ds_score, model_score = compute_similarity(model, sent)\n",
    "\n",
    "    ds_scores.append(ds_score)\n",
    "    model_scores.append(model_score)"
   ]
  },
  {
   "cell_type": "code",
   "execution_count": 36,
   "metadata": {},
   "outputs": [
    {
     "name": "stdout",
     "output_type": "stream",
     "text": [
      "Correlation between the dataset metrics and model scores is 0.54.\n"
     ]
    }
   ],
   "source": [
    "from scipy.stats import spearmanr\n",
    "\n",
    "corr = spearmanr(ds_scores, model_scores)[0]\n",
    "\n",
    "print(f\"Correlation between the dataset metrics and model scores is {corr:2.2f}.\")"
   ]
  },
  {
   "cell_type": "code",
   "execution_count": 37,
   "metadata": {},
   "outputs": [],
   "source": [
    "import pickle\n",
    "\n",
    "# Save the model\n",
    "pickle.dump(model,open('./app/models/gensim.model','wb'))"
   ]
  },
  {
   "cell_type": "code",
   "execution_count": 38,
   "metadata": {},
   "outputs": [
    {
     "data": {
      "text/plain": [
       "[('son', 0.9239585399627686),\n",
       " ('brother', 0.9224588871002197),\n",
       " ('grandfather', 0.8827932476997375),\n",
       " ('mother', 0.8656661510467529),\n",
       " ('uncle', 0.8646855354309082),\n",
       " ('wife', 0.8440755009651184),\n",
       " ('husband', 0.8430608510971069),\n",
       " ('daughter', 0.8396723866462708),\n",
       " ('friend', 0.8364216685295105),\n",
       " ('cousin', 0.8158136010169983)]"
      ]
     },
     "execution_count": 38,
     "metadata": {},
     "output_type": "execute_result"
    }
   ],
   "source": [
    "load_model = pickle.load(open('./app/models/gensim.model', 'rb'))\n",
    "load_model.most_similar('father')"
   ]
  }
 ],
 "metadata": {
  "kernelspec": {
   "display_name": "myenv1",
   "language": "python",
   "name": "python3"
  },
  "language_info": {
   "codemirror_mode": {
    "name": "ipython",
    "version": 3
   },
   "file_extension": ".py",
   "mimetype": "text/x-python",
   "name": "python",
   "nbconvert_exporter": "python",
   "pygments_lexer": "ipython3",
   "version": "3.11.10"
  }
 },
 "nbformat": 4,
 "nbformat_minor": 2
}
